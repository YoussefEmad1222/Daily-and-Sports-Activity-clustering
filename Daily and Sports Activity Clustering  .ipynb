{
 "cells": [
  {
   "cell_type": "markdown",
   "source": [
    "# **Part 1**"
   ],
   "metadata": {
    "id": "VQSPRDwNpW9U"
   },
   "id": "VQSPRDwNpW9U"
  },
  {
   "cell_type": "markdown",
   "source": [
    "We will extract the data from the clustering algorithm, We will use the “Daily and Sports Activity” dataset, which has 19 activities, each sport activity has eight subjects and each subject has 60 segments each segment has 45 features. The dataset has 9120 rows and 45 columns. The dataset is available in the UCI Machine Learning Repository. The dataset is collected from 19 subjects performing 19 different activities. We have 2 ways to convert the data to make it ready for clustering:\n",
    "1. We can use the means of each segment in the subject to represent the subject in the clustering algorithm.\n",
    "2. We will flatten the data of the single segment then apply a dimensionality reduction technique such as PCA to reduce the number of features to 45 features to represent the segment in the clustering algorithm."
   ],
   "metadata": {
    "collapsed": false,
    "id": "cf299facd0b8d5cd"
   },
   "id": "cf299facd0b8d5cd"
  },
  {
   "cell_type": "code",
   "outputs": [],
   "source": [
    "import os\n",
    "import numpy as np\n",
    "from sklearn.decomposition import PCA\n",
    "from sklearn.neighbors import NearestNeighbors"
   ],
   "metadata": {
    "id": "c1651284a813dd2a",
    "ExecuteTime": {
     "end_time": "2024-03-27T16:17:10.826852Z",
     "start_time": "2024-03-27T16:17:05.965928Z"
    }
   },
   "id": "c1651284a813dd2a",
   "execution_count": 1
  },
  {
   "cell_type": "code",
   "outputs": [],
   "source": [
    "# ./data\\a01\\p1\\s01.txt\n",
    "def getLabels(filePath):\n",
    "    filedata = filePath.split('\\\\')\n",
    "    dataLabel = filedata[1][1:]\n",
    "    return int(dataLabel)\n"
   ],
   "metadata": {
    "id": "4314b3793c8c9075",
    "ExecuteTime": {
     "end_time": "2024-03-27T16:17:10.831550Z",
     "start_time": "2024-03-27T16:17:10.827859Z"
    }
   },
   "id": "4314b3793c8c9075",
   "execution_count": 2
  },
  {
   "cell_type": "code",
   "outputs": [],
   "source": [
    "def getData(rootDir, extension):\n",
    "    dataIndex = 0\n",
    "    MeanDataMatrix = np.zeros((19 * 8 * 60, 45))\n",
    "    DimRedDataMatrix = np.zeros((19 * 8 * 60, 125 * 45))\n",
    "    dataLabels = np.zeros(19 * 8 * 60)\n",
    "    for root, dirs, files in os.walk(rootDir):\n",
    "        for file in files:\n",
    "            if file.endswith(extension):\n",
    "                file_path = os.path.join(root, file)\n",
    "                dataLabels[dataIndex] = getLabels(file_path)\n",
    "                content = np.genfromtxt(file_path, delimiter=',')\n",
    "                MeanDataMatrix[dataIndex] = np.mean(content, axis=0)\n",
    "                DimRedDataMatrix[dataIndex] = content.flatten()\n",
    "                dataIndex += 1\n",
    "    return MeanDataMatrix, DimRedDataMatrix, dataLabels, dataIndex\n"
   ],
   "metadata": {
    "id": "ad45852756b6dc52",
    "ExecuteTime": {
     "end_time": "2024-03-27T16:17:10.837885Z",
     "start_time": "2024-03-27T16:17:10.832555Z"
    }
   },
   "id": "ad45852756b6dc52",
   "execution_count": 3
  },
  {
   "cell_type": "code",
   "outputs": [],
   "source": [
    "MeanDataMatrix, DimRedDataMatrix, dataLabels, dataIndex = getData('data', '.txt')\n",
    "pca = PCA(n_components=45)\n",
    "DimRedDataMatrix = pca.fit_transform(DimRedDataMatrix)"
   ],
   "metadata": {
    "id": "f60da954fa91c61a",
    "ExecuteTime": {
     "end_time": "2024-03-27T16:18:31.151972Z",
     "start_time": "2024-03-27T16:17:10.838893Z"
    }
   },
   "id": "f60da954fa91c61a",
   "execution_count": 4
  },
  {
   "cell_type": "code",
   "outputs": [],
   "source": [
    "#we take the fist 48 for training and the rest for testing for each person\n",
    "trainData = np.zeros((19 * 8 * 48, 45))\n",
    "testData = np.zeros((19 * 8 * 12, 45))\n",
    "trainDimData = np.zeros((19 * 8 * 48, 45))\n",
    "testDimData = np.zeros((19 * 8 * 12, 45))\n",
    "trainLabels = np.zeros(19 * 8 * 48)\n",
    "testLabels = np.zeros(19 * 8 * 12)\n",
    "trainIndex = 0\n",
    "testIndex = 0\n",
    "for i in range(19 * 8 * 60):\n",
    "    if i % 60 < 48:\n",
    "        trainData[trainIndex] = MeanDataMatrix[i]\n",
    "        trainDimData[trainIndex] = DimRedDataMatrix[i]\n",
    "        trainLabels[trainIndex] = dataLabels[i]\n",
    "        trainIndex += 1\n",
    "    else:\n",
    "        testData[testIndex] = MeanDataMatrix[i]\n",
    "        testDimData[testIndex] = DimRedDataMatrix[i]\n",
    "        testLabels[testIndex] = dataLabels[i]\n",
    "        testIndex += 1\n"
   ],
   "metadata": {
    "id": "84239da6aedd86e2",
    "ExecuteTime": {
     "end_time": "2024-03-27T16:18:31.175446Z",
     "start_time": "2024-03-27T16:18:31.153981Z"
    }
   },
   "id": "84239da6aedd86e2",
   "execution_count": 5
  },
  {
   "cell_type": "markdown",
   "source": [
    "# **Part 2**"
   ],
   "metadata": {
    "id": "2xTc0g72prC_"
   },
   "id": "2xTc0g72prC_"
  },
  {
   "cell_type": "markdown",
   "source": [
    "**Let's implement the K-means algorithm from scratch**"
   ],
   "metadata": {
    "collapsed": false,
    "id": "ab34c098df1798bf"
   },
   "id": "ab34c098df1798bf"
  },
  {
   "cell_type": "code",
   "outputs": [],
   "source": [
    "\n",
    "\n",
    "def plot_k_distance_graph(data, k):\n",
    "    neigh = NearestNeighbors(n_neighbors=k)\n",
    "    fit = neigh.fit(data)\n",
    "    distances, indices = fit.kneighbors(data)\n",
    "    distances = np.sort(distances, axis=0)\n",
    "    distances = distances[:, 1]\n",
    "    plt.plot(distances)\n",
    "    for i in range(0, len(distances), 210):\n",
    "        plt.plot(i, distances[i], 'ro')  # 'ro' creates a red circle\n",
    "    plt.show()\n",
    "    return np.mean(distances[6500:6750])"
   ],
   "metadata": {
    "id": "afad443f4f91c0a6",
    "ExecuteTime": {
     "end_time": "2024-03-27T16:18:31.182579Z",
     "start_time": "2024-03-27T16:18:31.176451Z"
    }
   },
   "id": "afad443f4f91c0a6",
   "execution_count": 6
  },
  {
   "cell_type": "code",
   "outputs": [
    {
     "name": "stdout",
     "output_type": "stream",
     "text": [
      "k=45\n"
     ]
    },
    {
     "data": {
      "text/plain": "<Figure size 640x480 with 1 Axes>",
      "image/png": "[encoded data removed]"
     },
     "metadata": {},
     "output_type": "display_data"
    },
    {
     "name": "stdout",
     "output_type": "stream",
     "text": [
      "k=67\n"
     ]
    },
    {
     "data": {
      "text/plain": "<Figure size 640x480 with 1 Axes>",
      "image/png": "[encoded data removed]"
     },
     "metadata": {},
     "output_type": "display_data"
    },
    {
     "name": "stdout",
     "output_type": "stream",
     "text": [
      "k=90\n"
     ]
    },
    {
     "data": {
      "text/plain": "<Figure size 640x480 with 1 Axes>",
      "image/png": "[encoded data removed]"
     },
     "metadata": {},
     "output_type": "display_data"
    },
    {
     "name": "stdout",
     "output_type": "stream",
     "text": [
      "k=45\n"
     ]
    },
    {
     "data": {
      "text/plain": "<Figure size 640x480 with 1 Axes>",
      "image/png": "[encoded data removed]"
     },
     "metadata": {},
     "output_type": "display_data"
    },
    {
     "name": "stdout",
     "output_type": "stream",
     "text": [
      "k=67\n"
     ]
    },
    {
     "data": {
      "text/plain": "<Figure size 640x480 with 1 Axes>",
      "image/png": "[encoded data removed]"
     },
     "metadata": {},
     "output_type": "display_data"
    },
    {
     "name": "stdout",
     "output_type": "stream",
     "text": [
      "k=90\n"
     ]
    },
    {
     "data": {
      "text/plain": "<Figure size 640x480 with 1 Axes>",
      "image/png": "[encoded data removed]"
     },
     "metadata": {},
     "output_type": "display_data"
    }
   ],
   "source": [
    "k = [45, 67, 90]\n",
    "distances = []\n",
    "for i in k:\n",
    "    print(f'k={i}')\n",
    "    distances.append(plot_k_distance_graph(trainData, i))\n",
    "\n",
    "epsilon1 = np.mean(distances)\n",
    "\n",
    "for i in k:\n",
    "    print(f'k={i}')\n",
    "    distances.append(plot_k_distance_graph(trainDimData, i))\n",
    "\n",
    "epsilon2 = np.mean(distances)"
   ],
   "metadata": {
    "id": "7f543c486aed1eea",
    "outputId": "765f15ce-3b40-4f29-d2f2-a52fe0b237f1",
    "ExecuteTime": {
     "end_time": "2024-03-27T16:18:33.417391Z",
     "start_time": "2024-03-27T16:18:31.183583Z"
    }
   },
   "id": "7f543c486aed1eea",
   "execution_count": 7
  },
  {
   "cell_type": "code",
   "outputs": [
    {
     "name": "stdout",
     "output_type": "stream",
     "text": [
      "2.098418771050286\n",
      "41.5184584866849\n"
     ]
    }
   ],
   "source": [
    "print(epsilon1)\n",
    "print(epsilon2)"
   ],
   "metadata": {
    "collapsed": false,
    "ExecuteTime": {
     "end_time": "2024-03-27T16:18:33.422186Z",
     "start_time": "2024-03-27T16:18:33.418396Z"
    }
   },
   "id": "267da8f558688efe",
   "execution_count": 8
  },
  {
   "cell_type": "markdown",
   "source": [
    "let's now implement Kmeans from scratch"
   ],
   "metadata": {
    "collapsed": false
   },
   "id": "448c48ad55c56400"
  },
  {
   "cell_type": "code",
   "outputs": [],
   "source": [
    "# the ecuclidean distance between two vectors\n",
    "def euclidean_distance(x1, x2):\n",
    "    return np.sqrt(np.sum((x1 - x2) ** 2))\n",
    "\n",
    "# the initial centroids are chosen randomly from the dataset\n",
    "def get_initial_centroids(X, k):\n",
    "    n_samples, n_features = X.shape\n",
    "    centroids = np.array([X[np.random.choice(range(n_samples))] for _ in range(k)])\n",
    "    return centroids\n",
    "\n",
    "# get the clusters for each centroid by calculating the distance between each sample and the centroids\n",
    "# then assign the sample to the cluster of the closest centroid\n",
    "def get_clusters(X, centroids):\n",
    "    clusters = {i: [] for i in range(len(centroids))}  # initialize the clusters\n",
    "    for i, sample in enumerate(X):\n",
    "        centroid_idx = np.argmin(\n",
    "            [euclidean_distance(sample, centroid) for centroid in centroids])  # Find the closest centroid\n",
    "        clusters[centroid_idx].append(i)  # append the index of the sample to the cluster\n",
    "    return clusters\n",
    "\n",
    "\n",
    "# update the centroids by calculating the mean of the samples in each cluster and assign the new centroid to the mean of the samples\n",
    "# in the cluster\n",
    "def update_centroids(X, clusters):\n",
    "    centroids = np.array([np.mean(X[cluster], axis=0) for cluster in clusters.values()])\n",
    "    return centroids\n",
    "\n",
    "# the main function of the Kmeans algorithm that takes the data, the number of clusters, and the maximum number of iterations\n",
    "# then it returns the centroids and the clusters\n",
    "def kmeans(X, k, max_iters):\n",
    "    centroids = get_initial_centroids(X, k)\n",
    "    clusters = {}\n",
    "    for _ in range(max_iters):\n",
    "        clusters = get_clusters(X, centroids)\n",
    "        prev_centroids = centroids\n",
    "        centroids = update_centroids(X, clusters)\n",
    "        if np.all(np.abs(centroids - prev_centroids) < 1e-5):\n",
    "            break\n",
    "    return centroids, clusters\n",
    "\n",
    "\n",
    "def get_majority_label(clusters, train_labels):\n",
    "    majority_labels_for_cluster = np.zeros(len(clusters))\n",
    "    for key, cluster in clusters.items():\n",
    "        labels_in_cluster = train_labels[cluster]\n",
    "        unique, counts = np.unique(labels_in_cluster, return_counts=True)\n",
    "        majority_label = unique[np.argmax(counts)]\n",
    "        majority_labels_for_cluster[key] = majority_label\n",
    "    return majority_labels_for_cluster\n",
    "\n",
    "# the predict function that takes the data and the centroids and returns the predicted labels\n",
    "def predictWithoutMajority(X, centroids):\n",
    "    predicted_test_labels = np.zeros(X.shape[0])\n",
    "    for i, sample in enumerate(X):\n",
    "        centroid_idx = np.argmin([euclidean_distance(sample, centroid) for centroid in centroids])\n",
    "        predicted_test_labels[i] = centroid_idx\n",
    "    return predicted_test_labels\n",
    "\n",
    "\n",
    "def predict(X, centroids, majority_labels_for_clusters):\n",
    "    predicted_test_labels = np.zeros(X.shape[0])\n",
    "    for i, sample in enumerate(X):\n",
    "        centroid_idx = np.argmin([euclidean_distance(sample, centroid) for centroid in centroids])\n",
    "        predicted_test_labels[i] = majority_labels_for_clusters[centroid_idx]\n",
    "    return predicted_test_labels"
   ],
   "metadata": {
    "id": "33f0334c0f3932a1",
    "ExecuteTime": {
     "end_time": "2024-03-27T16:18:33.437824Z",
     "start_time": "2024-03-27T16:18:33.422698Z"
    }
   },
   "id": "33f0334c0f3932a1",
   "execution_count": 9
  },
  {
   "cell_type": "markdown",
   "source": [
    "let's train the model on the training data then test it on the testing data"
   ],
   "metadata": {
    "collapsed": false,
    "id": "ed0ad6adb4813cc2"
   },
   "id": "ed0ad6adb4813cc2"
  },
  {
   "cell_type": "code",
   "outputs": [],
   "source": [
    "#get the accuracy of Kmeans\n",
    "def get_accuracy(predicted_labels, true_labels):\n",
    "    return np.sum(predicted_labels == true_labels) / len(true_labels)"
   ],
   "metadata": {
    "id": "e38046922b92be45",
    "ExecuteTime": {
     "end_time": "2024-03-27T16:18:33.442851Z",
     "start_time": "2024-03-27T16:18:33.438830Z"
    }
   },
   "id": "e38046922b92be45",
   "execution_count": 10
  },
  {
   "cell_type": "markdown",
   "source": [
    "Now we need to evaluate the two methods at different Ks and compare. But first we need to write the evaluation methods."
   ],
   "metadata": {
    "id": "2qqwBVzTqFLN"
   },
   "id": "2qqwBVzTqFLN"
  },
  {
   "cell_type": "markdown",
   "source": [
    "# **Evaluation Methods**"
   ],
   "metadata": {
    "id": "CPtVuFm8FiBa"
   },
   "id": "CPtVuFm8FiBa"
  },
  {
   "cell_type": "markdown",
   "source": [
    "We need a way to calculate the contingency matrix in order to use it for evaluation because it's going to make it much easier. To do so we need to separate out data points into their predicted labels, and from there we can use the true labels to create the contingency matrix. Therefore, we need a method to create extract the clusters from the predicted labels."
   ],
   "metadata": {
    "id": "1bvWg4VKi5WB"
   },
   "id": "1bvWg4VKi5WB"
  },
  {
   "cell_type": "code",
   "source": [
    "def get_cluster(predictions):\n",
    "    unique_values = np.unique(predictions)\n",
    "    clusters = [np.where(predictions == value)[0] for value in unique_values]\n",
    "    return clusters"
   ],
   "metadata": {
    "id": "blSycQ9jCclO",
    "ExecuteTime": {
     "end_time": "2024-03-27T16:18:33.447250Z",
     "start_time": "2024-03-27T16:18:33.443858Z"
    }
   },
   "execution_count": 11,
   "outputs": [],
   "id": "blSycQ9jCclO"
  },
  {
   "cell_type": "markdown",
   "source": [
    "Now that we have the clusters we can easily get the contingency matrix."
   ],
   "metadata": {
    "id": "kO7k-gJtkKvR"
   },
   "id": "kO7k-gJtkKvR"
  },
  {
   "cell_type": "code",
   "source": [
    "def get_contingency_matrix(ground_truth, clusters):\n",
    "    unique_values, counts = np.unique(ground_truth, return_counts=True)\n",
    "    unique_values = np.array(unique_values, dtype=int)\n",
    "    temp = np.zeros((len(clusters), max(unique_values) + 1))\n",
    "    for i in range(len(clusters)):\n",
    "        unique_values, counts = np.unique(np.array(ground_truth)[clusters[i]], return_counts=True)\n",
    "        unique_values = np.array(unique_values, dtype=int)\n",
    "        temp[i][unique_values] = counts\n",
    "    return temp"
   ],
   "metadata": {
    "id": "O3781VaiSKgU",
    "ExecuteTime": {
     "end_time": "2024-03-27T16:18:33.452133Z",
     "start_time": "2024-03-27T16:18:33.448257Z"
    }
   },
   "execution_count": 12,
   "outputs": [],
   "id": "O3781VaiSKgU"
  },
  {
   "cell_type": "markdown",
   "source": [
    "Now for the evaluation methods. We need to evaluate the clusters for:\n",
    "1.   Precision:   Precision is the ratio of correctly predicted positive observations to the total predicted positive observations. Higher precision indicates a high level of exactness or quality of the clustering results.\n",
    "***\n",
    "2.  Recall:   Recall (Sensitivity) - the ratio of correctly predicted positive observations to the all observations in actual class. Higher recall indicates the class is correctly recognized by the model.\n",
    "***\n",
    "3.  F1 Score:  is the weighted average of Precision and Recall. Therefore, this score takes both false positives and false negatives into account. It is usually more useful than accuracy, especially if you have an uneven class distribution. The F1 score reaches its best value at 1 (perfect precision and recall) and worst at 0. It is a good way to show that a clustering Model has a good value for both recall and precision\n",
    "***\n",
    "4.  Conditional Entropy:  Conditional entropy measures the amount of information needed to describe the outcome of a random variable given the value of another variable. In the context of clustering, it measures the uncertainty of a cluster given the true labels. Lower conditional entropy indicates better clustering results.\n",
    "\n"
   ],
   "metadata": {
    "id": "O88XFhIujEkH"
   },
   "id": "O88XFhIujEkH"
  },
  {
   "cell_type": "code",
   "source": [
    "def purity(ground_truth, contingency_matrix):\n",
    "    return np.sum(np.max(contingency_matrix, axis=1)) / len(ground_truth)"
   ],
   "metadata": {
    "id": "sEWa1RGvSND0",
    "ExecuteTime": {
     "end_time": "2024-03-27T16:18:33.456535Z",
     "start_time": "2024-03-27T16:18:33.453138Z"
    }
   },
   "execution_count": 13,
   "outputs": [],
   "id": "sEWa1RGvSND0"
  },
  {
   "cell_type": "code",
   "source": [
    "def recall(ground_truth, contingency_matrix):\n",
    "    max_indices = np.argmax(contingency_matrix, axis=1)\n",
    "    recall = np.zeros(len(contingency_matrix))\n",
    "\n",
    "    for i in range(len(contingency_matrix)):\n",
    "        recall[i] = (contingency_matrix[i, max_indices[i]] / np.sum(contingency_matrix[:, max_indices[i]])) * (\n",
    "                np.sum(contingency_matrix[i]) / len(ground_truth))\n",
    "\n",
    "    return np.sum(recall)"
   ],
   "metadata": {
    "id": "Dr-ajzBCVblT",
    "ExecuteTime": {
     "end_time": "2024-03-27T16:18:33.462805Z",
     "start_time": "2024-03-27T16:18:33.459542Z"
    }
   },
   "execution_count": 14,
   "outputs": [],
   "id": "Dr-ajzBCVblT"
  },
  {
   "cell_type": "code",
   "source": [
    "import warnings\n",
    "\n",
    "\n",
    "def conditional_entropy(ground_truth, contingency_matrix):\n",
    "    with warnings.catch_warnings():\n",
    "        warnings.simplefilter(\"ignore\")\n",
    "        Sum = np.sum(contingency_matrix, axis=1)\n",
    "        log_temp = np.log2((contingency_matrix / Sum.reshape(-1, 1)))\n",
    "        log_temp[log_temp == -np.inf] = 0\n",
    "        temp = contingency_matrix * log_temp\n",
    "        return -np.sum(temp) / len(ground_truth)"
   ],
   "metadata": {
    "id": "g0Q9lRE-RBbM",
    "ExecuteTime": {
     "end_time": "2024-03-27T16:18:33.467651Z",
     "start_time": "2024-03-27T16:18:33.463812Z"
    }
   },
   "execution_count": 15,
   "outputs": [],
   "id": "g0Q9lRE-RBbM"
  },
  {
   "cell_type": "code",
   "source": [
    "def f_measure(contingency_matrix):\n",
    "    purity = np.max(contingency_matrix, axis=1) / np.sum(contingency_matrix, axis=1)\n",
    "\n",
    "    # Find the index of the cluster with the maximum count for each ground truth class\n",
    "    max_indices = np.argmax(contingency_matrix, axis=1)\n",
    "    recall = np.zeros(len(purity))\n",
    "\n",
    "    # Calculate recall for each cluster based on the ground truth\n",
    "    for i in range(len(purity)):\n",
    "        recall[i] = contingency_matrix[i, max_indices[i]] / np.sum(contingency_matrix[:, max_indices[i]])\n",
    "    purity = np.reshape(purity, (-1,))\n",
    "    recall = np.reshape(recall, (-1,))\n",
    "\n",
    "    return np.sum((2 * purity * recall) / (purity + recall)) / len(purity)"
   ],
   "metadata": {
    "id": "37yrBNwuRFJk",
    "ExecuteTime": {
     "end_time": "2024-03-27T16:18:33.472692Z",
     "start_time": "2024-03-27T16:18:33.468659Z"
    }
   },
   "execution_count": 16,
   "outputs": [],
   "id": "37yrBNwuRFJk"
  },
  {
   "cell_type": "code",
   "source": [
    "def evaluate_clusters(ground_truth, predictions):\n",
    "    clusters = get_cluster(predictions)\n",
    "    contingency = get_contingency_matrix(ground_truth, clusters)\n",
    "    print(\"Precision = \", purity(ground_truth, contingency))\n",
    "    print(\"Recall = \", recall(ground_truth, contingency))\n",
    "    print(\"F1 Score = \", f_measure(contingency))\n",
    "    print(\"Conditional Entropy = \", conditional_entropy(ground_truth, contingency))"
   ],
   "metadata": {
    "id": "JX8F82yhXk6U",
    "ExecuteTime": {
     "end_time": "2024-03-27T16:18:33.477707Z",
     "start_time": "2024-03-27T16:18:33.473697Z"
    }
   },
   "execution_count": 17,
   "outputs": [],
   "id": "JX8F82yhXk6U"
  },
  {
   "cell_type": "markdown",
   "source": [
    "# **Comparing Kmeans**"
   ],
   "metadata": {
    "id": "JLoF0Vm3GAqi"
   },
   "id": "JLoF0Vm3GAqi"
  },
  {
   "cell_type": "code",
   "outputs": [
    {
     "name": "stdout",
     "output_type": "stream",
     "text": [
      "Precision =  0.2982456140350877\n",
      "Recall =  0.8892543859649122\n",
      "F1 Score =  0.49874123166850626\n",
      "Conditional Entropy =  2.487181701519231\n",
      "\n",
      "Precision =  0.40789473684210525\n",
      "Recall =  0.800438596491228\n",
      "F1 Score =  0.48426587359574985\n",
      "Conditional Entropy =  2.1335012555313524\n",
      "\n",
      "Precision =  0.43475877192982454\n",
      "Recall =  0.590563322368421\n",
      "F1 Score =  0.4126858474523029\n",
      "Conditional Entropy =  2.0429694741208904\n",
      "\n",
      "Precision =  0.48793859649122806\n",
      "Recall =  0.4722907529239766\n",
      "F1 Score =  0.3766463711446565\n",
      "Conditional Entropy =  1.8398348572932237\n",
      "\n",
      "Precision =  0.5526315789473685\n",
      "Recall =  0.42827690972222215\n",
      "F1 Score =  0.34782900073316814\n",
      "Conditional Entropy =  1.6082113405060678\n"
     ]
    }
   ],
   "source": [
    "k = [8, 13, 19, 28, 38]\n",
    "max_iters = 1000\n",
    "for i in k:\n",
    "    centroids, clusters = kmeans(trainDimData, i, max_iters)\n",
    "    predictedTestLabels = predictWithoutMajority(testDimData, centroids)\n",
    "    evaluate_clusters(testLabels, predictedTestLabels)\n",
    "    print(\"\\n\")"
   ],
   "metadata": {
    "id": "1567c43701d9089e",
    "outputId": "1fb77fd9-aee0-4201-842e-4ef6b850eeee",
    "ExecuteTime": {
     "end_time": "2024-03-27T16:20:08.003596Z",
     "start_time": "2024-03-27T16:18:33.478713Z"
    }
   },
   "execution_count": 18,
   "id": "1567c43701d9089e"
  },
  {
   "cell_type": "code",
   "outputs": [
    {
     "name": "stdout",
     "output_type": "stream",
     "text": [
      "Precision =  0.2631578947368421\n",
      "Recall =  0.7035361842105263\n",
      "F1 Score =  0.392608808450147\n",
      "Conditional Entropy =  2.5978171327401913\n",
      "\n",
      "Precision =  0.4100877192982456\n",
      "Recall =  0.7392521016081871\n",
      "F1 Score =  0.5156059309149832\n",
      "Conditional Entropy =  2.1918129481604818\n",
      "\n",
      "Precision =  0.46326754385964913\n",
      "Recall =  0.5081894188596491\n",
      "F1 Score =  0.4598367397025253\n",
      "Conditional Entropy =  1.8642743527132584\n",
      "\n",
      "Precision =  0.46326754385964913\n",
      "Recall =  0.47741913377192985\n",
      "F1 Score =  0.35682731919201466\n",
      "Conditional Entropy =  1.8145893377094722\n",
      "\n",
      "Precision =  0.5882675438596491\n",
      "Recall =  0.369140625\n",
      "F1 Score =  0.372595492814661\n",
      "Conditional Entropy =  1.330194111059229\n"
     ]
    }
   ],
   "source": [
    "for i in k:\n",
    "    centroids, clusters = kmeans(trainData, i, max_iters)\n",
    "    predictedTestLabels = predictWithoutMajority(testData, centroids)\n",
    "    evaluate_clusters(testLabels, predictedTestLabels)\n",
    "    print(\"\\n\")"
   ],
   "metadata": {
    "id": "1297da35853ae9",
    "outputId": "099d7989-a072-4362-96b8-f1f2e173a4c6",
    "ExecuteTime": {
     "end_time": "2024-03-27T16:22:31.872026Z",
     "start_time": "2024-03-27T16:20:08.004603Z"
    }
   },
   "execution_count": 19,
   "id": "1297da35853ae9"
  },
  {
   "cell_type": "markdown",
   "source": [
    "1. Precision : the precision is higher for the mean data across all cluster sizes. This indicates that the K-means algorithm was more precise when applied to the mean data compared to the PCA reduced data.\n",
    "\n",
    "***\n",
    "2. Recall: Recall (Sensitivity) : The recall is higher for the PCA reduced data when the number of clusters is less (8 and 13). However, as the number of clusters increases, the recall for the mean data becomes higher. This suggests that for a smaller number of clusters, the PCA reduced data might be capturing the cluster structure better, but as the number of clusters increases, the mean data provides a better representation.\n",
    "***\n",
    "3. F1 Score: the F1 score is higher for the mean data across all cluster sizes. This indicates that the mean data provides a better balance between precision and recall compared to the PCA reduced data.\n",
    "***\n",
    "4. Conditional Entropy:  the conditional entropy is lower for the mean data across all cluster sizes. This suggests that the mean data provides a more certain (or less random) clustering result compared to the PCA reduced data.\n",
    "***\n",
    "5. Given these results, it appears that mean data provides better overall clustering performance than PCA reduced data for the metrics considered. However, the best choice depends on the specific requirements of your task. If high recall for smaller numbers of clusters is critical, PCA reduced data might be preferable. If overall performance across Precision, Recall, and Conditional Entropy is more important, mean data seems to be the better choice for the K-means algorithm in this case, and  also the PCA may remove information that is valuable for cluster formation. In contrast, using mean data retains more of the original features, which seems to be beneficial for the clustering task in this particular context.\n"
   ],
   "metadata": {
    "id": "X0O5cePhGbMh"
   },
   "id": "X0O5cePhGbMh"
  },
  {
   "cell_type": "markdown",
   "source": [
    "# **Parts 3**"
   ],
   "metadata": {
    "id": "p2bn1iLfPz07"
   },
   "id": "p2bn1iLfPz07"
  },
  {
   "cell_type": "markdown",
   "source": [
    "**Part 1**"
   ],
   "metadata": {
    "id": "WBeGc4XSk0Hp"
   },
   "id": "WBeGc4XSk0Hp"
  },
  {
   "cell_type": "markdown",
   "source": [
    "**Now let's implement Spectral clustering**"
   ],
   "metadata": {
    "id": "DLpezybkiSlX"
   },
   "id": "DLpezybkiSlX"
  },
  {
   "cell_type": "code",
   "source": [
    "from sklearn.cluster import KMeans"
   ],
   "metadata": {
    "id": "GIivU6UBg62D",
    "ExecuteTime": {
     "end_time": "2024-03-27T16:22:32.229233Z",
     "start_time": "2024-03-27T16:22:31.873031Z"
    }
   },
   "execution_count": 20,
   "outputs": [],
   "id": "GIivU6UBg62D"
  },
  {
   "cell_type": "code",
   "source": [
    "def SpectralClustering(D, k, gamma):\n",
    "    pairwise_sq_dists = np.square(np.linalg.norm(D[:, None] - D, axis=2))\n",
    "    A = np.exp(-gamma * pairwise_sq_dists)\n",
    "    delta = np.diag(np.sum(A, axis=1))\n",
    "    L_a = np.identity(len(A)) - (np.linalg.inv(delta) @ A)\n",
    "    eig_values, eig_vectors = np.linalg.eigh(L_a)\n",
    "    sorted_indices = np.argsort(eig_values)\n",
    "\n",
    "    np.real(eig_values[sorted_indices])\n",
    "    eig_vectors = np.real(eig_vectors[:, sorted_indices])\n",
    "\n",
    "    U = eig_vectors[:, :k]\n",
    "    Y = U / np.linalg.norm(U, axis=1, keepdims=True)\n",
    "\n",
    "    kmeans = KMeans(n_clusters=k, n_init='auto').fit(Y)\n",
    "    return kmeans.labels_"
   ],
   "metadata": {
    "id": "5BubZEqhhX1j",
    "ExecuteTime": {
     "end_time": "2024-03-27T16:22:32.236521Z",
     "start_time": "2024-03-27T16:22:32.231192Z"
    }
   },
   "execution_count": 21,
   "outputs": [],
   "id": "5BubZEqhhX1j"
  },
  {
   "cell_type": "markdown",
   "source": [
    "**Now it's time to cluster the data. We will also evaluate the clusters simultaneously**"
   ],
   "metadata": {
    "id": "uGIrOwTqksSl"
   },
   "id": "uGIrOwTqksSl"
  },
  {
   "cell_type": "markdown",
   "source": [
    "Clustering the data where we took the mean of the columns"
   ],
   "metadata": {
    "id": "MtZeAXRSlA0v"
   },
   "id": "MtZeAXRSlA0v"
  },
  {
   "cell_type": "code",
   "outputs": [],
   "source": [
    "import matplotlib.pyplot as plt\n",
    "def detected_activities_per_cluster(predictions):\n",
    "    clusters = get_cluster(predictions)\n",
    "    counts = [len(cluster) for cluster in clusters]\n",
    "    plt.bar(range(len(clusters)), counts)\n",
    "    plt.xlabel('Cluster')\n",
    "    plt.ylabel('Number of points')\n",
    "    plt.title('Histogram of Points in Clusters')\n",
    "    plt.xticks(range(len(clusters)), range(len(clusters)))\n",
    "    plt.show()"
   ],
   "metadata": {
    "collapsed": false
   },
   "id": "fffbbcbd2ac41bd0"
  },
  {
   "cell_type": "code",
   "outputs": [
    {
     "name": "stdout",
     "output_type": "stream",
     "text": [
      "Precision =  0.6217105263157895\n",
      "Recall =  0.6727030793128654\n",
      "F1 Score =  0.6142484077510811\n",
      "Conditional Entropy =  1.3053386357030201\n"
     ]
    }
   ],
   "source": [
    "predictions = SpectralClustering(testData, 19, 0.00001)\n",
    "evaluate_clusters(testLabels, predictions)"
   ],
   "metadata": {
    "id": "e6f9c616d771db18",
    "outputId": "6802c7bc-c096-4e50-f648-6ab14ab8ced4",
    "ExecuteTime": {
     "end_time": "2024-03-27T16:22:35.743669Z",
     "start_time": "2024-03-27T16:22:32.237526Z"
    }
   },
   "execution_count": 22,
   "id": "e6f9c616d771db18"
  },
  {
   "cell_type": "markdown",
   "source": [
    "Now that the function is implemented we can process to seeing the number of detected activities"
   ],
   "metadata": {
    "id": "15aarGXe_jiE"
   },
   "id": "15aarGXe_jiE"
  },
  {
   "cell_type": "code",
   "source": [
    "detected_activities_per_cluster(predictions)"
   ],
   "metadata": {
    "id": "S9KMQYXG_rUJ",
    "ExecuteTime": {
     "end_time": "2024-03-27T16:22:35.994894Z",
     "start_time": "2024-03-27T16:22:35.753668Z"
    }
   },
   "id": "S9KMQYXG_rUJ",
   "execution_count": 24,
   "outputs": [
    {
     "data": {
      "text/plain": "<Figure size 640x480 with 1 Axes>",
      "image/png": "[encoded data removed]"
     },
     "metadata": {},
     "output_type": "display_data"
    }
   ]
  },
  {
   "cell_type": "markdown",
   "source": [
    "Clustering the data where we flattened the features and reduced the dimensions using PCA"
   ],
   "metadata": {
    "id": "AUZXCxTElbaS"
   },
   "id": "AUZXCxTElbaS"
  },
  {
   "cell_type": "code",
   "outputs": [
    {
     "name": "stdout",
     "output_type": "stream",
     "text": [
      "Precision =  0.5630482456140351\n",
      "Recall =  0.6100717288011697\n",
      "F1 Score =  0.578098110380351\n",
      "Conditional Entropy =  1.5664033278872673\n"
     ]
    }
   ],
   "source": [
    "predictions = SpectralClustering(testDimData, 19, 0.00001)\n",
    "evaluate_clusters(testLabels, predictions)"
   ],
   "metadata": {
    "id": "7e5f210c7f044f05",
    "outputId": "f057ba2e-f134-4da7-9a7c-04d7d1049f80",
    "ExecuteTime": {
     "end_time": "2024-03-27T16:22:39.045245Z",
     "start_time": "2024-03-27T16:22:35.996900Z"
    }
   },
   "execution_count": 25,
   "id": "7e5f210c7f044f05"
  },
  {
   "cell_type": "code",
   "source": [
    "detected_activities_per_cluster(predictions)"
   ],
   "metadata": {
    "id": "vW-765QB_6MS",
    "ExecuteTime": {
     "end_time": "2024-03-27T16:22:39.215199Z",
     "start_time": "2024-03-27T16:22:39.046254Z"
    }
   },
   "id": "vW-765QB_6MS",
   "execution_count": 26,
   "outputs": [
    {
     "data": {
      "text/plain": "<Figure size 640x480 with 1 Axes>",
      "image/png": "[encoded data removed]"
     },
     "metadata": {},
     "output_type": "display_data"
    }
   ]
  },
  {
   "cell_type": "markdown",
   "source": [
    "We can see that both of them achieved very similar results with some discrepancies which could be due to random initialization of the Kmeans algorithm at the end of the spectral clustering."
   ],
   "metadata": {
    "id": "m-pxIN5XlssG"
   },
   "id": "m-pxIN5XlssG"
  },
  {
   "cell_type": "markdown",
   "source": [
    "**Part 2**"
   ],
   "metadata": {
    "id": "yoUuhStwmVbh"
   },
   "id": "yoUuhStwmVbh"
  },
  {
   "cell_type": "markdown",
   "source": [
    "1. Precision: Comparing this to the K-Means algorithm using mean data , the Spectral Clustering algorithm has a higher precision. This indicates that the Spectral Clustering algorithm is more precise in identifying clusters compared to the K-Means algorithm.\n",
    "***\n",
    "2. Recall: Comparing this to the K-Means algorithm using mean data , the Spectral Clustering algorithm has a higher recall. This indicates that the Spectral Clustering algorithm is better at capturing the true positive rate of clusters compared to the K-Means algorithm.\n",
    "***\n",
    "3. F1 Score: the Spectral Clustering algorithm has a higher F1 score. This indicates that the Spectral Clustering algorithm provides a better balance between precision and recall compared to the K-Means algorithm.\n",
    "***\n",
    "4. Conditional Entropy: the conditional entropy for the Spectral Clustering algorithm using mean data is. Comparing this to the K-Means algorithm using mean data , the Spectral Clustering algorithm has a lower (better) conditional entropy.\n",
    "***\n",
    "5. summary, the Spectral Clustering algorithm using mean data outperforms the K-Means algorithm using mean data in terms of precision, recall, F1 score, and conditional entropy for the same number of clusters (19). This suggests that the Spectral Clustering algorithm might be a better choice for this specific dataset and task."
   ],
   "metadata": {
    "id": "KnKEIOCpGPpd"
   },
   "id": "KnKEIOCpGPpd"
  },
  {
   "cell_type": "markdown",
   "source": [],
   "metadata": {
    "collapsed": false
   },
   "id": "83b03e3a7dfa0731"
  },
  {
   "cell_type": "markdown",
   "source": [
    "1. Precision: Comparing this to the K-Means algorithm using the same data, the Spectral Clustering algorithm has a higher precision.  \n",
    "***\n",
    "2. Recall: Recall : Comparing this to the K-Means algorithm using the same data, the K-Means algorithm has a slightly higher recall.  \n",
    "***\n",
    "3. F1 Score: Comparing this to the K-Means algorithm using the same data, the Spectral Clustering algorithm has a significantly higher F1 score.  \n",
    "***\n",
    "4. Conditional Entropy:Comparing this to the K-Means algorithm using the same data, the Spectral Clustering algorithm has a lower (better) conditional entropy.  \n",
    "***\n",
    "5. In summary, the Spectral Clustering algorithm using PCA reduced data outperforms the K-Means algorithm using the same data in terms of precision, F1 score, and conditional entropy for the same number of clusters (19). However, the K-Means algorithm has a slightly higher recall. This suggests that the Spectral Clustering algorithm might be a better choice for this specific dataset and task, depending on the specific requirements of your task. For example, if precision, F1 score, and conditional entropy are more important for your task, you might want to choose the Spectral Clustering algorithm. If recall is more important, you might want to choose the K-Means algorithm."
   ],
   "metadata": {
    "collapsed": false
   },
   "id": "cf6a1c7fe8a0541f"
  },
  {
   "cell_type": "markdown",
   "source": [],
   "metadata": {
    "collapsed": false
   },
   "id": "2120a4866c937040"
  },
  {
   "cell_type": "markdown",
   "source": [
    "# **Part 5**"
   ],
   "metadata": {
    "id": "Dm7Fqz-aqcc-"
   },
   "id": "Dm7Fqz-aqcc-"
  },
  {
   "cell_type": "markdown",
   "source": [
    "now we will make Agglomerative Clustering algorithm from scratch    \n",
    "\n",
    "explanation of the algorithm:\n",
    "1. Start by assigning each data point to its own cluster.\n",
    "2. Then, compute the distance between each pair of clusters.\n",
    "3. Merge the two closest clusters.\n",
    "4. The distance between two clusters can be computed using different methods such as single linkage, complete linkage, and average linkage. a single linkage is the distance between the two closest points in each cluster. complete linkage is the distance between the two farthest points in each cluster. the average linkage is the average distance between all pairs of points in the two clusters which is the most common method, the linkage type is a parameter that the user can choose.\n",
    "5. Repeat steps 2 and 3 until the desired number of clusters is reached, which is the stopping criterion that determined by the user\n",
    "6. The final result is the clusters that we get after applying the stopping criterion.\n"
   ],
   "metadata": {
    "collapsed": false,
    "id": "b77183b79d1a695d"
   },
   "id": "b77183b79d1a695d"
  },
  {
   "cell_type": "markdown",
   "source": [],
   "metadata": {
    "collapsed": false,
    "id": "a2d0280613bf0f66"
   },
   "id": "a2d0280613bf0f66"
  },
  {
   "cell_type": "code",
   "outputs": [],
   "source": [
    "# Single linkage distance for two clusters (minimum distance between two points in the clusters)\n",
    "def single_linkage_distance(cluster1, cluster2):\n",
    "    return np.min([euclidean_distance(x1, x2) for x1 in cluster1 for x2 in cluster2])\n",
    "\n",
    "\n",
    "# Complete linkage distance for two clusters (maximum distance between two points in the clusters)\n",
    "def complete_linkage_distance(cluster1, cluster2):\n",
    "    return np.max([euclidean_distance(x1, x2) for x1 in cluster1 for x2 in cluster2])\n",
    "\n",
    "\n",
    "# Average linkage distance for two clusters (average distance between two points in the clusters)\n",
    "def average_linkage_distance(cluster1, cluster2):\n",
    "    return np.mean([euclidean_distance(x1, x2) for x1 in cluster1 for x2 in cluster2])\n",
    "\n",
    "\n",
    "# Get initial clusters for each point in the dataset (each point is a cluster initially)\n",
    "def getInitialClusters(X):\n",
    "    clusters = [[X[i]] for i in range(len(X))]\n",
    "    numberOfClusters = len(X)\n",
    "    return clusters, numberOfClusters\n",
    "\n",
    "\n",
    "def getDistanceMatrix(clusters, linkageType='average'):\n",
    "    n_clusters = len(clusters)\n",
    "    distanceMatrix = np.zeros((n_clusters, n_clusters), dtype=float)\n",
    "    for i in range(n_clusters):\n",
    "        for j in range(i + 1, n_clusters):\n",
    "            if linkageType == 'single':\n",
    "                distance = np.min(pdist(np.vstack([clusters[i], clusters[j]])))\n",
    "            elif linkageType == 'complete':\n",
    "                distance = np.max(pdist(np.vstack([clusters[i], clusters[j]])))\n",
    "            else:\n",
    "                distance = np.mean(pdist(np.vstack([clusters[i], clusters[j]])))\n",
    "\n",
    "            distanceMatrix[i, j] = distance\n",
    "            distanceMatrix[j, i] = distance\n",
    "    np.fill_diagonal(distanceMatrix, np.inf)\n",
    "    return distanceMatrix"
   ],
   "metadata": {
    "id": "b6ecea2bd51b9825",
    "ExecuteTime": {
     "end_time": "2024-03-27T16:22:39.223733Z",
     "start_time": "2024-03-27T16:22:39.216204Z"
    }
   },
   "id": "b6ecea2bd51b9825",
   "execution_count": 27
  },
  {
   "cell_type": "code",
   "outputs": [],
   "source": [
    "from scipy.spatial.distance import pdist\n",
    "\n",
    "\n",
    "def updateDistanceMatrix(distanceMatrix, minIndex, clusters, linkageType):\n",
    "    clustersNumber = len(clusters)\n",
    "    for i in range(clustersNumber):\n",
    "        if i != minIndex[0]:\n",
    "            if linkageType == 'single':\n",
    "                distance = np.min(pdist(np.vstack([clusters[minIndex[0]], clusters[i]])))\n",
    "            elif linkageType == 'complete':\n",
    "                distance = np.max(pdist(np.vstack([clusters[minIndex[0]], clusters[i]])))\n",
    "            else:\n",
    "                distance = np.mean(pdist(np.vstack([clusters[minIndex[0]], clusters[i]])))\n",
    "            distanceMatrix[minIndex[0], i] = distance\n",
    "            distanceMatrix[i, minIndex[0]] = distance\n",
    "    distanceMatrix = np.delete(distanceMatrix, minIndex[1], axis=0)\n",
    "    distanceMatrix = np.delete(distanceMatrix, minIndex[1], axis=1)\n",
    "    return distanceMatrix\n",
    "\n",
    "\n",
    "def agglomerativeClustering(X, numberOfClusters, distanceMatrix, linkageType='average'):\n",
    "    clusters, clustersNumber = getInitialClusters(X)\n",
    "    while clustersNumber > numberOfClusters:\n",
    "        minIndex = np.unravel_index(np.argmin(distanceMatrix, axis=None), distanceMatrix.shape)\n",
    "        clusters[minIndex[0]] = clusters[minIndex[0]] + clusters[minIndex[1]]\n",
    "        clusters.pop(minIndex[1])\n",
    "        clustersNumber -= 1\n",
    "        distanceMatrix = updateDistanceMatrix(distanceMatrix, minIndex, clusters, linkageType)\n",
    "    return clusters\n"
   ],
   "metadata": {
    "id": "8737a65f463c933b",
    "ExecuteTime": {
     "end_time": "2024-03-27T16:22:39.236113Z",
     "start_time": "2024-03-27T16:22:39.224745Z"
    }
   },
   "id": "8737a65f463c933b",
   "execution_count": 28
  },
  {
   "cell_type": "markdown",
   "source": [
    "let's implement DBSCAN algorithm from scratch\n",
    "explanation of the algorithm:\n",
    " 1. initialized all points as unvisited and the labels with zeroes and cluster label zero.\n",
    "\n",
    " 2. for each point in the dataset, check if the point is visited or not, if not visited, find the neighbors of the point.\n",
    "\n",
    " 3. if the number of neighbors is less than the minimum number of points, mark the point as noise and continue to the next point.\n",
    "\n",
    " 4. if the number of neighbors is greater than or equal to the minimum number of points,then we will expand the cluster by assigning the cluster label to the point and expand the cluster by finding the neighbors of the point and assign the cluster label to the neighbors.\n",
    "\n",
    " 5. while expanding clusters, check if the neighbor is visited or not, if not visited, mark it as visited and find the neighbors of the neighbor and check if the number of neighbors is greater than or equal to the minimum number of points, then expand the cluster by assigning the cluster label to the neighbor and expand the cluster by finding the neighbors of the neighbor and assign the cluster label to the neighbors.\n",
    "\n",
    " 6. repeat step 4 and 5 until all points are visited.\n",
    "\n",
    " 7. the final result is the clusters that we get after applying the stopping criterion.\n",
    "\n",
    " 8. the algorithm has two parameters, epsilon, and minPts. epsilon is the radius of the neighborhood and minPts is the minimum number of points to form a cluster, by default epsilon is 0.5 and minPts is 5 but the user can change them to fit the dataset.\n",
    "\n",
    " 9. the algorithm is sensitive to the epsilon and minPts parameters, so the user should try different values to get the best results.\n",
    "\n",
    "advantages of DBSCAN algorithm over K-means:\n",
    " 1. DBSCAN can find clusters with arbitrary shapes and sizes, while K-means can find only spherical clusters.\n",
    " 2. DBSCAN can perform really well with noisy data, while K-means is sensitive to noisy data that can affect the performance of the algorithm.\n",
    " 3. DBSCAN does not require the number of clusters to be specified in advance, while K-means requires the number of clusters to be specified in advance.\n",
    " 4. DBSCAN is deterministic, while K-means is not deterministic.\n",
    "\n",
    "disadvantages of DBSCAN algorithm over K-means:\n",
    " 1. While DBSCAN is great at separating high-density clusters from low-density clusters, DBSCAN struggles with clusters of similar density.\n",
    " 2. Struggles with high dimensionality data. If given data with too many dimensions, DBSCAN suffers.\n",
    " 3. it has a high computational cost when the number of data points is large,while K means really faster than DBSCAN.\n",
    " 4. it is sensitive to the epsilon and minPts parameters, so the user should try different values to get the best results.\n",
    " 5. it is not suitable for data with varying densities because it uses a single epsilon value for all points in the dataset,wile K means can handle data with varying densities."
   ],
   "metadata": {
    "collapsed": false,
    "id": "b42754345769874c"
   },
   "id": "b42754345769874c"
  },
  {
   "cell_type": "code",
   "outputs": [],
   "source": [
    "\n",
    "def expand_cluster(data_points, point_idx, neighbors, visited, labels, cluster_label, epsilon, minPts):\n",
    "    labels[point_idx] = cluster_label  # Assign cluster label\n",
    "    i = 0\n",
    "    while i < len(neighbors):\n",
    "        neighbor_idx = neighbors[i]# Get the neighbor\n",
    "        if neighbor_idx not in visited:# Check if the neighbor is visited\n",
    "            visited.add(neighbor_idx)# Mark as visited\n",
    "            neighbor_neighbors = getNeighbours(data_points, neighbor_idx, epsilon)# Find neighbors of the neighbor\n",
    "            if len(neighbor_neighbors) >= minPts:# Check if the number of neighbors is greater than or equal to minPts\n",
    "                neighbors += neighbor_neighbors# Expand cluster\n",
    "        if labels[neighbor_idx] == 0:  # Unassigned\n",
    "            labels[neighbor_idx] = cluster_label# Assign cluster label\n",
    "        i += 1\n",
    "\n",
    "# Get neighbors of a point within epsilon distance from the point\n",
    "def getNeighbours(data_points, point_idx, epsilon):\n",
    "    return [i for i in range(data_points.shape[0]) if np.linalg.norm(data_points[point_idx] - data_points[i]) <= epsilon]\n",
    "\n",
    "\n",
    "def dbscan(data_points, epsilon=0.5, minPts=5):\n",
    "    labels = np.zeros(data_points.shape[0])  # Initialize cluster labels\n",
    "    visited = set()  # Track visited points\n",
    "    cluster_label = 0  # Current cluster label\n",
    "\n",
    "    for idx in range(data_points.shape[0]):\n",
    "        if idx not in visited:  # Check if point is already visited\n",
    "            visited.add(idx)\n",
    "            neighbors = getNeighbours(data_points, idx, epsilon)  # Find neighbors\n",
    "            if len(neighbors) < minPts:\n",
    "                labels[idx] = -1  # Mark as noise\n",
    "            else:\n",
    "                cluster_label += 1\n",
    "                expand_cluster(data_points, idx, neighbors, visited, labels, cluster_label, epsilon, minPts)# Expand cluster from neighbors\n",
    "\n",
    "    return labels + 1\n"
   ],
   "metadata": {
    "id": "446e8d4c721a68c3",
    "ExecuteTime": {
     "end_time": "2024-03-27T17:09:28.480994Z",
     "start_time": "2024-03-27T17:09:28.473515Z"
    }
   },
   "id": "446e8d4c721a68c3",
   "execution_count": 39
  },
  {
   "cell_type": "markdown",
   "source": [
    "let's test the DBSCAN algorithm on the dataset mean data"
   ],
   "metadata": {
    "collapsed": false,
    "id": "b6a3e873a17739b4"
   },
   "id": "b6a3e873a17739b4"
  },
  {
   "cell_type": "code",
   "outputs": [],
   "source": [
    "predicted_labels = dbscan(testData, epsilon=epsilon1, minPts=5)"
   ],
   "metadata": {
    "id": "34ddb3f04ed02c5e",
    "ExecuteTime": {
     "end_time": "2024-03-27T18:35:26.387820Z",
     "start_time": "2024-03-27T18:35:14.962230Z"
    }
   },
   "id": "34ddb3f04ed02c5e",
   "execution_count": 143
  },
  {
   "cell_type": "code",
   "outputs": [
    {
     "name": "stdout",
     "output_type": "stream",
     "text": [
      "Precision =  0.7971491228070176\n",
      "Recall =  0.26271815606725146\n",
      "F1 Score =  0.2143745760293736\n",
      "Conditional Entropy =  0.7073592161525766\n"
     ]
    }
   ],
   "source": [
    "evaluate_clusters(testLabels, predicted_labels)"
   ],
   "metadata": {
    "id": "8c79d1a9bc4e6302",
    "outputId": "7a186ec6-e117-40e5-cf41-7fb42f6295ef",
    "ExecuteTime": {
     "end_time": "2024-03-27T18:35:26.397592Z",
     "start_time": "2024-03-27T18:35:26.389365Z"
    }
   },
   "id": "8c79d1a9bc4e6302",
   "execution_count": 144
  },
  {
   "cell_type": "code",
   "outputs": [],
   "source": [
    "predicted_DimRed_labels = dbscan(testDimData, epsilon=epsilon2, minPts=5)"
   ],
   "metadata": {
    "id": "d8d00e1256586e5a",
    "ExecuteTime": {
     "end_time": "2024-03-27T18:35:36.274681Z",
     "start_time": "2024-03-27T18:35:26.398600Z"
    }
   },
   "id": "d8d00e1256586e5a",
   "execution_count": 145
  },
  {
   "cell_type": "code",
   "outputs": [
    {
     "name": "stdout",
     "output_type": "stream",
     "text": [
      "Precision =  0.39035087719298245\n",
      "Recall =  0.703090734649123\n",
      "F1 Score =  0.19822530569287755\n",
      "Conditional Entropy =  2.330536790395049\n"
     ]
    }
   ],
   "source": [
    "evaluate_clusters(testLabels, predicted_DimRed_labels)"
   ],
   "metadata": {
    "id": "178582ff47547786",
    "outputId": "49be7e02-8ee2-4069-8658-305b31e9fe49",
    "ExecuteTime": {
     "end_time": "2024-03-27T18:35:36.282923Z",
     "start_time": "2024-03-27T18:35:36.275919Z"
    }
   },
   "id": "178582ff47547786",
   "execution_count": 146
  }
 ],
 "metadata": {
  "kernelspec": {
   "display_name": "Python 3",
   "language": "python",
   "name": "python3"
  },
  "language_info": {
   "codemirror_mode": {
    "name": "ipython",
    "version": 2
   },
   "file_extension": ".py",
   "mimetype": "text/x-python",
   "name": "python",
   "nbconvert_exporter": "python",
   "pygments_lexer": "ipython2",
   "version": "2.7.6"
  },
  "colab": {
   "provenance": []
  }
 },
 "nbformat": 4,
 "nbformat_minor": 5
}
